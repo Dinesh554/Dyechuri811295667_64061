{
  "nbformat": 4,
  "nbformat_minor": 0,
  "metadata": {
    "colab": {
      "provenance": []
    },
    "kernelspec": {
      "name": "python3",
      "display_name": "Python 3"
    },
    "language_info": {
      "name": "python"
    }
  },
  "cells": [
    {
      "cell_type": "code",
      "execution_count": 22,
      "metadata": {
        "colab": {
          "base_uri": "https://localhost:8080/"
        },
        "id": "3jrSCeWTt5pF",
        "outputId": "1846c28b-e753-4766-f335-6f7cde58b4f5"
      },
      "outputs": [
        {
          "output_type": "stream",
          "name": "stderr",
          "text": [
            "[nltk_data] Downloading package stopwords to /root/nltk_data...\n",
            "[nltk_data]   Package stopwords is already up-to-date!\n"
          ]
        },
        {
          "output_type": "execute_result",
          "data": {
            "text/plain": [
              "True"
            ]
          },
          "metadata": {},
          "execution_count": 22
        }
      ],
      "source": [
        "import numpy as np\n",
        "import pandas as pd\n",
        "import matplotlib.pyplot as plt\n",
        "import seaborn as sns\n",
        "import nltk\n",
        "from nltk.corpus import stopwords\n",
        "from nltk.stem import PorterStemmer\n",
        "from nltk.tokenize import word_tokenize\n",
        "import re\n",
        "import warnings\n",
        "import matplotlib.pyplot as plt\n",
        "import seaborn as sns\n",
        "from sklearn.base import BaseEstimator, TransformerMixin\n",
        "from sklearn.metrics import accuracy_score, confusion_matrix, classification_report\n",
        "from sklearn.model_selection import train_test_split\n",
        "from sklearn.preprocessing import LabelEncoder\n",
        "from sklearn.feature_extraction.text import TfidfVectorizer\n",
        "from sklearn.pipeline import Pipeline\n",
        "from sklearn.svm import SVC\n",
        "from tensorflow.keras.models import Sequential\n",
        "from tensorflow.keras.layers import Dense, Dropout\n",
        "from skopt import BayesSearchCV\n",
        "from skopt.space import Real, Categorical, Integer\n",
        "\n",
        "\n",
        "warnings.filterwarnings('ignore')\n",
        "nltk.download('stopwords')\n"
      ]
    },
    {
      "cell_type": "markdown",
      "source": [
        "**Processing**"
      ],
      "metadata": {
        "id": "0_G7vJIMOSMv"
      }
    },
    {
      "cell_type": "code",
      "source": [
        "class TextProcessor(BaseEstimator, TransformerMixin):\n",
        "    def __init__(self, lower=False, stem=False):\n",
        "        self.lower = lower\n",
        "        self.stem = stem\n",
        "\n",
        "    def fit(self, X, y=None):\n",
        "        return self\n",
        "\n",
        "    def transform(self, X):\n",
        "        def text_processing(text):\n",
        "            processed_text = re.sub('[^a-zA-Z]', ' ', text) # remove any non-alphabet characters\n",
        "            if self.lower:\n",
        "                processed_text = processed_text.lower()\n",
        "            processed_text = processed_text.split()\n",
        "            if self.stem:\n",
        "                ps = PorterStemmer()\n",
        "                processed_text = [ps.stem(word) for word in processed_text if word not in set(stopwords.words('english'))]\n",
        "            processed_text = ' '.join(processed_text)\n",
        "            return processed_text\n",
        "\n",
        "        return [text_processing(text) for text in X]\n",
        ""
      ],
      "metadata": {
        "id": "dN_Pk742xTGW"
      },
      "execution_count": 9,
      "outputs": []
    },
    {
      "cell_type": "code",
      "source": [
        "file_path = 'emotion.txt'\n",
        "data = pd.read_csv(file_path, sep=';', header=None, names=['Text', 'Emotion'])\n",
        "data = data[~data['Emotion'].isin(['love', 'surprise'])]\n",
        "\n",
        "label_encoder = LabelEncoder()\n",
        "data['Emotion'] = label_encoder.fit_transform(data['Emotion'])"
      ],
      "metadata": {
        "id": "POa3ppkpzKiw"
      },
      "execution_count": 10,
      "outputs": []
    },
    {
      "cell_type": "code",
      "source": [
        "X = data['Text']\n",
        "y = data['Emotion']\n",
        "X_train, X_test, y_train, y_test = train_test_split(X, y, test_size=0.2, random_state=42)\n",
        "\n",
        "text_pipeline = Pipeline([\n",
        "    ('processor', TextProcessor(lower=True, stem=True)),\n",
        "    ('vectorizer', TfidfVectorizer(max_features=5000))\n",
        "])"
      ],
      "metadata": {
        "id": "vFtSNEiFzeG6"
      },
      "execution_count": 11,
      "outputs": []
    },
    {
      "cell_type": "code",
      "source": [
        "X_train_processed = text_pipeline.fit_transform(X_train)\n",
        "X_test_processed = text_pipeline.transform(X_test)\n",
        "\n",
        "def create_model(optimizer='adam', dropout_rate=0.2):\n",
        "    model = Sequential([\n",
        "        Dense(128, input_dim=X_train_processed.shape[1], activation='relu'),\n",
        "        Dropout(dropout_rate),\n",
        "        Dense(64, activation='relu'),\n",
        "        Dropout(dropout_rate),\n",
        "        Dense(32, activation='relu'),\n",
        "        Dense(1, activation='sigmoid')\n",
        "    ])\n",
        "    model.compile(loss='binary_crossentropy', optimizer=optimizer, metrics=['accuracy'])\n",
        "    return model"
      ],
      "metadata": {
        "id": "EM9QYEiazgCr"
      },
      "execution_count": 12,
      "outputs": []
    },
    {
      "cell_type": "code",
      "source": [
        "param_space = {\n",
        "    'batch_size': Integer(32, 128),\n",
        "    'epochs': Integer(10, 50),\n",
        "    'optimizer': Categorical(['adam', 'rmsprop']),\n",
        "    'dropout_rate': Real(0.1, 0.5)\n",
        "}\n",
        "\n",
        "model = KerasClassifier(build_fn=create_model, verbose=0, dropout_rate=0.31633689752874516)"
      ],
      "metadata": {
        "id": "JjIdF5iTzhvy"
      },
      "execution_count": 16,
      "outputs": []
    },
    {
      "cell_type": "markdown",
      "source": [
        "**Hyperparamter Tuning using BayesSearchCV**"
      ],
      "metadata": {
        "id": "xDmKF5j3OXJH"
      }
    },
    {
      "cell_type": "code",
      "source": [
        "bayes_search = BayesSearchCV(\n",
        "    model,\n",
        "    search_spaces=param_space,\n",
        "    n_iter=20,\n",
        "    cv=3,\n",
        "    verbose=2,\n",
        "    n_jobs=-1\n",
        ")"
      ],
      "metadata": {
        "id": "tsllWJyozn9N"
      },
      "execution_count": 17,
      "outputs": []
    },
    {
      "cell_type": "code",
      "source": [
        "bayes_search.fit(X_train_processed, y_train)\n",
        "\n",
        "best_model = bayes_search.best_estimator_\n",
        "y_pred_train = best_model.predict(X_train_processed)\n",
        "y_pred_test = best_model.predict(X_test_processed)"
      ],
      "metadata": {
        "colab": {
          "base_uri": "https://localhost:8080/"
        },
        "id": "7FFUe_mKz4Rs",
        "outputId": "59541605-6cbd-4483-8c5d-4ab46245160a"
      },
      "execution_count": 18,
      "outputs": [
        {
          "output_type": "stream",
          "name": "stdout",
          "text": [
            "Fitting 3 folds for each of 1 candidates, totalling 3 fits\n",
            "Fitting 3 folds for each of 1 candidates, totalling 3 fits\n",
            "Fitting 3 folds for each of 1 candidates, totalling 3 fits\n",
            "Fitting 3 folds for each of 1 candidates, totalling 3 fits\n",
            "Fitting 3 folds for each of 1 candidates, totalling 3 fits\n",
            "Fitting 3 folds for each of 1 candidates, totalling 3 fits\n",
            "Fitting 3 folds for each of 1 candidates, totalling 3 fits\n",
            "Fitting 3 folds for each of 1 candidates, totalling 3 fits\n",
            "Fitting 3 folds for each of 1 candidates, totalling 3 fits\n",
            "Fitting 3 folds for each of 1 candidates, totalling 3 fits\n",
            "Fitting 3 folds for each of 1 candidates, totalling 3 fits\n",
            "Fitting 3 folds for each of 1 candidates, totalling 3 fits\n",
            "Fitting 3 folds for each of 1 candidates, totalling 3 fits\n",
            "Fitting 3 folds for each of 1 candidates, totalling 3 fits\n",
            "Fitting 3 folds for each of 1 candidates, totalling 3 fits\n",
            "Fitting 3 folds for each of 1 candidates, totalling 3 fits\n",
            "Fitting 3 folds for each of 1 candidates, totalling 3 fits\n",
            "Fitting 3 folds for each of 1 candidates, totalling 3 fits\n",
            "Fitting 3 folds for each of 1 candidates, totalling 3 fits\n",
            "Fitting 3 folds for each of 1 candidates, totalling 3 fits\n"
          ]
        }
      ]
    },
    {
      "cell_type": "code",
      "source": [
        "print(\"Train Accuracy:\", accuracy_score(y_train, y_pred_train))\n",
        "print(\"Test Accuracy:\", accuracy_score(y_test, y_pred_test))\n",
        "print(\"\\nTrain Classification Report:\\n\", classification_report(y_train, y_pred_train))\n",
        "print(\"\\nTest Classification Report:\\n\", classification_report(y_test, y_pred_test))"
      ],
      "metadata": {
        "colab": {
          "base_uri": "https://localhost:8080/"
        },
        "id": "QBXCVol3z5bC",
        "outputId": "473955af-0b08-4c3b-df65-af86f7d49a0e"
      },
      "execution_count": 19,
      "outputs": [
        {
          "output_type": "stream",
          "name": "stdout",
          "text": [
            "Train Accuracy: 0.15346490839897337\n",
            "Test Accuracy: 0.1504424778761062\n",
            "\n",
            "Train Classification Report:\n",
            "               precision    recall  f1-score   support\n",
            "\n",
            "           0       0.15      1.00      0.27      1734\n",
            "           1       0.00      0.00      0.00      1553\n",
            "           2       0.00      0.00      0.00      4267\n",
            "           3       0.00      0.00      0.00      3745\n",
            "\n",
            "    accuracy                           0.15     11299\n",
            "   macro avg       0.04      0.25      0.07     11299\n",
            "weighted avg       0.02      0.15      0.04     11299\n",
            "\n",
            "\n",
            "Test Classification Report:\n",
            "               precision    recall  f1-score   support\n",
            "\n",
            "           0       0.15      1.00      0.26       425\n",
            "           1       0.00      0.00      0.00       384\n",
            "           2       0.00      0.00      0.00      1095\n",
            "           3       0.00      0.00      0.00       921\n",
            "\n",
            "    accuracy                           0.15      2825\n",
            "   macro avg       0.04      0.25      0.07      2825\n",
            "weighted avg       0.02      0.15      0.04      2825\n",
            "\n"
          ]
        }
      ]
    },
    {
      "cell_type": "code",
      "source": [
        "\n",
        "\n",
        "# Plot confusion matrix\n",
        "def plot_confusion_matrix(y_true, y_pred, labels):\n",
        "    cm = confusion_matrix(y_true, y_pred)\n",
        "    plt.figure(figsize=(8, 6))\n",
        "    sns.heatmap(cm, annot=True, fmt='d', cmap='Blues', xticklabels=labels, yticklabels=labels)\n",
        "    plt.xlabel('Predicted Labels')\n",
        "    plt.ylabel('True Labels')\n",
        "    plt.title('Confusion Matrix')\n",
        "    plt.show()\n"
      ],
      "metadata": {
        "id": "KjPZs44iaOR0"
      },
      "execution_count": 27,
      "outputs": []
    },
    {
      "cell_type": "code",
      "source": [
        "# Visualize confusion matrix\n",
        "plot_confusion_matrix(y_test, y_pred_test, label_encoder.classes_)"
      ],
      "metadata": {
        "colab": {
          "base_uri": "https://localhost:8080/",
          "height": 564
        },
        "id": "6GfNfM_BaXNa",
        "outputId": "62f1ba46-5fe8-445f-c80e-ab6ccae7ddc4"
      },
      "execution_count": 28,
      "outputs": [
        {
          "output_type": "display_data",
          "data": {
            "text/plain": [
              "<Figure size 800x600 with 2 Axes>"
            ],
            "image/png": "[encoded data removed]"
          },
          "metadata": {}
        }
      ]
    },
    {
      "cell_type": "code",
      "source": [],
      "metadata": {
        "id": "NvvNO7n8adlN"
      },
      "execution_count": null,
      "outputs": []
    }
  ]
}